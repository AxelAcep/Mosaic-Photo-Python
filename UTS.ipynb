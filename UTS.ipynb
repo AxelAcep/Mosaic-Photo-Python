{
 "cells": [
  {
   "cell_type": "code",
   "execution_count": 1,
   "metadata": {},
   "outputs": [],
   "source": [
    "import cv2 as cv\n",
    "import numpy as np\n",
    "import os\n",
    "from PIL import Image\n",
    "from scipy import spatial\n",
    "import glob"
   ]
  },
  {
   "cell_type": "code",
   "execution_count": 15,
   "metadata": {},
   "outputs": [
    {
     "data": {
      "text/plain": [
       "True"
      ]
     },
     "execution_count": 15,
     "metadata": {},
     "output_type": "execute_result"
    }
   ],
   "source": [
    "# Load gambar utama\n",
    "main_image = cv.imread(\"MainIMG.jpg\")\n",
    "\n",
    "# Lakukan restorasi digital untuk menghilangkan noise\n",
    "denoised_image = cv.bilateralFilter(main_image, 4, 45, 65)\n",
    "darker_image = cv.subtract(denoised_image, (10, 10, 10, 0))\n",
    "\n",
    "\n",
    "# Tampilkan gambar hasil\n",
    "cv.imshow(\"Original Image\", main_image)\n",
    "cv.imshow(\"Denoised Image\", denoised_image)\n",
    "cv.imshow(\"Sharpened Image\", darker_image)\n",
    "cv.waitKey(0)\n",
    "cv.destroyAllWindows()\n",
    "cv.imwrite(\"Darker_Image.jpg\", darker_image)\n"
   ]
  },
  {
   "cell_type": "code",
   "execution_count": 3,
   "metadata": {},
   "outputs": [],
   "source": [
    "\n",
    "sample_image = cv.imread(\"SampleIMG.jpg\")\n",
    "\n",
    "# Lakukan restorasi digital untuk menghilangkan noise\n",
    "denoised_image_1 = cv.bilateralFilter(sample_image, 5, 50, 50)\n",
    "ligther_image = cv.add(denoised_image_1, (10, 10, 10, 0))\n",
    "\n",
    "\n",
    "# Tampilkan gambar hasil\n",
    "cv.imshow(\"Original Image\", sample_image)\n",
    "cv.imshow(\"Denoised Image\", denoised_image_1)\n",
    "cv.imshow(\"Sharpened Image\", ligther_image)\n",
    "cv.waitKey(0)\n",
    "cv.destroyAllWindows()"
   ]
  },
  {
   "cell_type": "code",
   "execution_count": 4,
   "metadata": {},
   "outputs": [],
   "source": [
    "import os\n",
    "\n",
    "def process_image(image_path):\n",
    "    sample_image = cv.imread(image_path)\n",
    "    \n",
    "    resized_image = cv.resize(sample_image, (25, 34))\n",
    "    \n",
    "    denoised_image = cv.bilateralFilter(resized_image, 5, 50, 50)\n",
    "    \n",
    "    lighter_image = cv.add(denoised_image, (10, 10, 10, 0))\n",
    "\n",
    "    return lighter_image\n",
    "\n",
    "folder_path = \"sample\"\n",
    "\n",
    "for filename in os.listdir(folder_path):\n",
    "    if filename.endswith(\".jpg\") or filename.endswith(\".JPG\"): \n",
    "\n",
    "        image_path = os.path.join(folder_path, filename)\n",
    "        \n",
    "        processed_image = process_image(image_path)\n",
    "        \n",
    "        cv.imshow(\"Original Image\", cv.imread(image_path))\n",
    "        cv.imshow(\"Processed Image\", processed_image)\n",
    "        cv.waitKey(0)\n",
    "\n",
    "# Tutup semua jendela gambar\n",
    "cv.destroyAllWindows()\n"
   ]
  },
  {
   "cell_type": "code",
   "execution_count": 5,
   "metadata": {},
   "outputs": [
    {
     "name": "stdout",
     "output_type": "stream",
     "text": [
      "Image saved: SampleResize\\Sample_0.JPG\n",
      "Image saved: SampleResize\\Sample_1.jpg\n",
      "Image saved: SampleResize\\Sample_10.jpg\n",
      "Image saved: SampleResize\\Sample_11.jpg\n",
      "Image saved: SampleResize\\Sample_12.jpg\n",
      "Image saved: SampleResize\\Sample_13.jpg\n",
      "Image saved: SampleResize\\Sample_2.jpg\n",
      "Image saved: SampleResize\\Sample_3.jpg\n",
      "Image saved: SampleResize\\Sample_4.jpg\n",
      "Image saved: SampleResize\\Sample_5.JPG\n",
      "Image saved: SampleResize\\Sample_6.jpg\n",
      "Image saved: SampleResize\\Sample_7.jpg\n",
      "Image saved: SampleResize\\Sample_8.jpg\n",
      "Image saved: SampleResize\\Sample_9.jpg\n",
      "All images processed and saved successfully.\n"
     ]
    }
   ],
   "source": [
    "folder_path = \"sample\"\n",
    "\n",
    "# Buat folder untuk menyimpan gambar yang diresize\n",
    "output_folder_path = \"SampleResize\"\n",
    "os.makedirs(output_folder_path, exist_ok=True)\n",
    "\n",
    "# Loop melalui setiap gambar di dalam folder\n",
    "for filename in os.listdir(folder_path):\n",
    "    if filename.endswith(\".jpg\") or filename.endswith(\".JPG\"): \n",
    "        # Path lengkap gambar\n",
    "        image_path = os.path.join(folder_path, filename)\n",
    "        \n",
    "        # Proses gambar\n",
    "        processed_image = process_image(image_path)\n",
    "        \n",
    "        # Simpan gambar yang diresize ke dalam folder baru\n",
    "        output_path = os.path.join(output_folder_path, filename)\n",
    "        cv.imwrite(output_path, processed_image)\n",
    "        print(f\"Image saved: {output_path}\")\n",
    "\n",
    "print(\"All images processed and saved successfully.\")"
   ]
  },
  {
   "cell_type": "code",
   "execution_count": 143,
   "metadata": {},
   "outputs": [],
   "source": [
    "main_photo_path = \"Darker_Image.jpg\"\n",
    "tile_photos_path = \"SampleResize\"\n",
    "tile_size = (4, 6)\n",
    "\n",
    "tile_paths = []\n",
    "for file in glob.glob(str(tile_photos_path)):  # Convert Path object to string\n",
    "    tile_paths.append(file)\n",
    "\n",
    "\n",
    "# Import and resize all tiles\n",
    "tiles = []\n",
    "for path in glob.glob(\"SampleResize/*\"):\n",
    "    tile = Image.open(path)\n",
    "    tile = tile.resize(tile_size)\n",
    "    tiles.append(tile)\n",
    "\n",
    "\n",
    "# Calculate dominant color\n",
    "colors = []\n",
    "for tile in tiles:\n",
    "    mean_color = np.array(tile).mean(axis=0).mean(axis=0)\n",
    "    colors.append(mean_color)\n"
   ]
  },
  {
   "cell_type": "code",
   "execution_count": 144,
   "metadata": {},
   "outputs": [],
   "source": [
    "main_photo = Image.open(main_photo_path)\n",
    "\n",
    "width = int(np.round(main_photo.size[0] / tile_size[0]))\n",
    "height = int(np.round(main_photo.size[1] / tile_size[1]))\n",
    "\n",
    "resized_photo = main_photo.resize((width, height))"
   ]
  },
  {
   "cell_type": "code",
   "execution_count": 145,
   "metadata": {},
   "outputs": [],
   "source": [
    "tree = spatial.KDTree(colors)\n",
    "\n",
    "# Empty integer array to store indices of tiles\n",
    "closest_tiles = np.zeros((width, height), dtype=np.uint32)\n",
    "\n",
    "for i in range(width):\n",
    "\tfor j in range(height):\n",
    "\t\tpixel = resized_photo.getpixel((i, j))  # Getthe pixel color at (i, j)\n",
    "\t\tclosest = tree.query(pixel)             # Returns (distance, index)\n",
    "\t\tclosest_tiles[i, j] = closest[1]        # We only need the index"
   ]
  },
  {
   "cell_type": "code",
   "execution_count": 146,
   "metadata": {},
   "outputs": [],
   "source": [
    "output = Image.new('RGB', main_photo.size)\n",
    "\n",
    "# Draw tiles\n",
    "for i in range(width):\n",
    "\tfor j in range(height):\n",
    "\t\t# Offset of tile\n",
    "\t\tx, y = i*tile_size[0], j*tile_size[1]\n",
    "\t\t# Index of tile\n",
    "\t\tindex = closest_tiles[i, j]\n",
    "\t\t# Draw tile\n",
    "\t\toutput.paste(tiles[index], (x, y))\n",
    "\n",
    "# Save output\n",
    "output.save(\"output4.jpg\")"
   ]
  }
 ],
 "metadata": {
  "kernelspec": {
   "display_name": "Python 3",
   "language": "python",
   "name": "python3"
  },
  "language_info": {
   "codemirror_mode": {
    "name": "ipython",
    "version": 3
   },
   "file_extension": ".py",
   "mimetype": "text/x-python",
   "name": "python",
   "nbconvert_exporter": "python",
   "pygments_lexer": "ipython3",
   "version": "3.11.1"
  }
 },
 "nbformat": 4,
 "nbformat_minor": 2
}
